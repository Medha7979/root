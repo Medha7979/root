{
  "nbformat": 4,
  "nbformat_minor": 0,
  "metadata": {
    "colab": {
      "name": "CV_problem.ipynb",
      "version": "0.3.2",
      "provenance": [],
      "collapsed_sections": []
    },
    "kernelspec": {
      "name": "python3",
      "display_name": "Python 3"
    },
    "accelerator": "GPU"
  },
  "cells": [
    {
      "metadata": {
        "id": "ioCqvMyUWILL",
        "colab_type": "code",
        "colab": {}
      },
      "cell_type": "code",
      "source": [
        "import cv2 \n",
        "import os \n",
        "import numpy as np "
      ],
      "execution_count": 0,
      "outputs": []
    },
    {
      "metadata": {
        "id": "w5SuACNIWYlV",
        "colab_type": "code",
        "colab": {}
      },
      "cell_type": "code",
      "source": [
        "#from random import shuffle \n",
        "#from tqdm import tqdm \n",
        "#import PIL\n",
        "import pickle"
      ],
      "execution_count": 0,
      "outputs": []
    },
    {
      "metadata": {
        "id": "AbJ2h0FPWbE8",
        "colab_type": "code",
        "colab": {}
      },
      "cell_type": "code",
      "source": [
        "file = open('C:/Users/MEDHA/Desktop/midas_iiitd/train_image.pkl', 'rb')\n",
        "f = open('C:/Users/MEDHA/Desktop/midas_iiitd/train_label.pkl', 'rb')\n",
        "f1=open('C:/Users/MEDHA/Desktop/midas_iiitd/test_image.pkl', 'rb')\n",
        "image = pickle.load(file)"
      ],
      "execution_count": 0,
      "outputs": []
    },
    {
      "metadata": {
        "id": "rdT37gTnWe7i",
        "colab_type": "code",
        "colab": {}
      },
      "cell_type": "code",
      "source": [
        "xx = np.array(image)\n",
        "im=pickle.load(f)\n",
        "a=np.array(im)\n",
        "im1 = pickle.load(f1)\n",
        "b=np.array(im1)"
      ],
      "execution_count": 0,
      "outputs": []
    }
  ]
}