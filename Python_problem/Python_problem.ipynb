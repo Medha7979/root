{
  "nbformat": 4,
  "nbformat_minor": 0,
  "metadata": {
    "colab": {
      "name": "Python_problem.ipynb",
      "version": "0.3.2",
      "provenance": []
    },
    "kernelspec": {
      "name": "python3",
      "display_name": "Python 3"
    },
    "accelerator": "GPU"
  },
  "cells": [
    {
      "metadata": {
        "id": "jies-ydySUxz",
        "colab_type": "code",
        "colab": {}
      },
      "cell_type": "code",
      "source": [
        "\n",
        "# -*- coding: utf-8 -*-\n",
        "\"\"\"\n",
        "Created on Sun Apr  7 16:39:50 2019\n",
        "@author: MEDHA\n",
        "\"\"\""
      ],
      "execution_count": 0,
      "outputs": []
    },
    {
      "metadata": {
        "id": "mgRPF5K6UdHq",
        "colab_type": "code",
        "colab": {}
      },
      "cell_type": "code",
      "source": [
        "import tweepy #https://github.com/tweepy/tweepy\n",
        "import csv\n",
        "from tweepy.auth import OAuthHandler\n",
        "import json\n",
        "#Twitter API credentials\n",
        "consumer_key = \"xxxx\"\n",
        "consumer_secret = \"yyyy\"\n",
        "access_key = \"aaaa\"\n",
        "access_secret = \"bbbb\""
      ],
      "execution_count": 0,
      "outputs": []
    },
    {
      "metadata": {
        "id": "M6-mIm0hUj3E",
        "colab_type": "code",
        "colab": {}
      },
      "cell_type": "code",
      "source": [
        "def get_all_tweets(screen_name):\n",
        "    #Twitter only allows access to a users most recent 3240 tweets with this method\n",
        "\n",
        "    #authorize twitter, initialize tweepy\n",
        "    auth = OAuthHandler(consumer_key, consumer_secret)\n",
        "    auth.set_access_token(access_key, access_secret)\n",
        "    api = tweepy.API(auth)\n",
        "\n",
        "    #initialize a list to hold all the tweepy Tweets\n",
        "    alltweets = []  \n",
        "\n",
        "    #make initial request for most recent tweets (200 is the maximum allowed count)\n",
        "    new_tweets = api.user_timeline(screen_name = screen_name,count=200)\n",
        "    #save most recent tweets\n",
        "    alltweets.extend(new_tweets)\n",
        "\n",
        "    #save the id of the oldest tweet less one\n",
        "    oldest = alltweets[-1].id - 1\n",
        "\n",
        "    #keep grabbing tweets until there are no tweets left to grab\n",
        "    while len(new_tweets) > 0:\n",
        "        print (\"getting tweets before %s\" % (oldest))\n",
        "\n",
        "        #all subsiquent requests use the max_id param to prevent duplicates\n",
        "        new_tweets = api.user_timeline(screen_name = screen_name,count=200,max_id=oldest)\n",
        "\n",
        "        #save most recent tweets\n",
        "        alltweets.extend(new_tweets)\n",
        "\n",
        "        #update the id of the oldest tweet less one\n",
        "        oldest = alltweets[-1].id - 1\n",
        "\n",
        "        print (\"%s tweets downloaded\" % (len(alltweets)))\n",
        "    #dumping all tweets into json\n",
        "    status = alltweets[0]\n",
        "    json.dumps(status._json)\n",
        "    #getting the images in a tweet stored in variable a \n",
        "    i=0\n",
        "    a=None\n",
        "    if((True in [medium['type'] == 'photo' for medium in tweet.entities['media']])for tweet in alltweets):\n",
        "        i=i+1\n",
        "            \n",
        "    else:\n",
        "        a=\"None\"\n",
        "    a=i\n",
        "    i=0\n",
        " #transform the tweepy tweets into a 2D array that will populate the csv \n",
        "    outtweets = [[tweet.id_str, tweet.created_at.strftime('%Y-%m-%d %H:%M:%S'), tweet.text.encode(\"utf-8\"),tweet.favorite_count,tweet.retweet_count,a] for tweet in alltweets]\n",
        "    \n",
        "\n",
        "    #write the csv  \n",
        "    with open('%s_tweets.csv' % screen_name, 'w') as f:\n",
        "        writer = csv.writer(f)\n",
        "        writer.writerow([\"id\",\"created_at\",\"text\",\"favourites/likes\",\"retweets\",\"No. of images\"])\n",
        "        writer.writerows(outtweets)\n",
        "\n",
        "    pass"
      ],
      "execution_count": 0,
      "outputs": []
    },
    {
      "metadata": {
        "id": "KHwadaA0U2x2",
        "colab_type": "code",
        "colab": {}
      },
      "cell_type": "code",
      "source": [
        "if __name__ == '__main__':\n",
        "    #pass in the username of the account you want to download\n",
        "    get_all_tweets(\"midasIIITD\")\n"
      ],
      "execution_count": 0,
      "outputs": []
    }
  ]
}