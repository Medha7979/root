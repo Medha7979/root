{
  "nbformat": 4,
  "nbformat_minor": 0,
  "metadata": {
    "colab": {
      "name": "Python_problem.ipynb",
      "version": "0.3.2",
      "provenance": [],
      "collapsed_sections": []
    },
    "kernelspec": {
      "name": "python3",
      "display_name": "Python 3"
    },
    "accelerator": "GPU"
  },
  "cells": [
    {
      "metadata": {
        "id": "Wu5loaHcHuie",
        "colab_type": "text"
      },
      "cell_type": "markdown",
      "source": [
        "# ***Python Problem***"
      ]
    },
    {
      "metadata": {
        "id": "UVT_PSuMHoaO",
        "colab_type": "code",
        "colab": {}
      },
      "cell_type": "code",
      "source": [
        "import tweepy #https://github.com/tweepy/tweepy\n",
        "import csv\n",
        "from tweepy.auth import OAuthHandler\n",
        "import jsonlines"
      ],
      "execution_count": 0,
      "outputs": []
    },
    {
      "metadata": {
        "id": "s8PsCU0SH3HT",
        "colab_type": "text"
      },
      "cell_type": "markdown",
      "source": [
        "Twitter API credentials"
      ]
    },
    {
      "metadata": {
        "id": "4ovAMLyRH2Pc",
        "colab_type": "code",
        "colab": {}
      },
      "cell_type": "code",
      "source": [
        "consumer_key = \"xxx\"\n",
        "consumer_secret = \"yyy\"\n",
        "access_key = \"aaa\"\n",
        "access_secret = \"bbb\""
      ],
      "execution_count": 0,
      "outputs": []
    },
    {
      "metadata": {
        "id": "4iG3a99-I5HL",
        "colab_type": "text"
      },
      "cell_type": "markdown",
      "source": [
        "### *Function to get all tweets and parse it into JSONline*"
      ]
    },
    {
      "metadata": {
        "id": "dpBc2k3FH_Jm",
        "colab_type": "code",
        "colab": {}
      },
      "cell_type": "code",
      "source": [
        "def get_all_tweets(screen_name):\n",
        "    #Twitter only allows access to a users most recent 3240 tweets with this method\n",
        "\n",
        "    #authorize twitter, initialize tweepy\n",
        "    auth = OAuthHandler(consumer_key, consumer_secret)\n",
        "    auth.set_access_token(access_key, access_secret)\n",
        "    api = tweepy.API(auth)\n",
        "\n",
        "    #initialize a list to hold all the tweepy Tweets\n",
        "    alltweets = []  \n",
        "\n",
        "    #make initial request for most recent tweets (200 is the maximum allowed count)\n",
        "    new_tweets = api.user_timeline(screen_name = screen_name,count=200)\n",
        "    #save most recent tweets\n",
        "    alltweets.extend(new_tweets)\n",
        "\n",
        "    #save the id of the oldest tweet less one\n",
        "    oldest = alltweets[-1].id - 1\n",
        "\n",
        "    #keep grabbing tweets until there are no tweets left to grab\n",
        "    while len(new_tweets) > 0:\n",
        "        print (\"getting tweets before %s\" % (oldest))\n",
        "\n",
        "        #all subsiquent requests use the max_id param to prevent duplicates\n",
        "        new_tweets = api.user_timeline(screen_name = screen_name,count=200,max_id=oldest)\n",
        "\n",
        "        #save most recent tweets\n",
        "        alltweets.extend(new_tweets)\n",
        "\n",
        "        #update the id of the oldest tweet less one\n",
        "        oldest = alltweets[-1].id - 1\n",
        "\n",
        "        print (\"%s tweets downloaded\" % (len(alltweets)))\n",
        "        \n",
        "    #getting the images in a tweet stored in variable a \n",
        "    i=0\n",
        "    a=None\n",
        "    if((True in [medium['type'] == 'photo' for medium in tweet.entities['media']])for tweet in alltweets):\n",
        "        i=i+1\n",
        "            \n",
        "    else:\n",
        "        a=\"None\"\n",
        "    a=i\n",
        "    i=0\n",
        "     #writing tweets to jsonline file\n",
        "    \n",
        "    with jsonlines.open('output11.jsonl', mode='w') as writer:\n",
        "        writer.write(list([tweet.created_at.strftime('%Y-%m-%d %H:%M:%S'), tweet.text,tweet.favorite_count,tweet.retweet_count,a] for tweet in alltweets))\n",
        "    outtweets=[]\n",
        "    #reading content fron jsonline files\n",
        "    with jsonlines.open('output11.jsonl') as reader:\n",
        "        for obj in reader:  \n",
        " #transform the tweepy tweets into a 2D array that will populate the csv \n",
        "            for m in obj:\n",
        "                m[1]=m[1].encode(\"utf-8\")\n",
        "            outtweets.append(obj)\n",
        "    \n",
        "    #write the csv  \n",
        "    with open('%s_tweets1112.csv' % screen_name, 'w') as f:\n",
        "        writer = csv.writer(f)\n",
        "        writer.writerow([\"created_at\",\"text\",\"favourites/likes\",\"retweets\",\"No. of images\"])\n",
        "        writer.writerows(outtweets[0])\n",
        "\n",
        "    pass\n"
      ],
      "execution_count": 0,
      "outputs": []
    },
    {
      "metadata": {
        "id": "biPOXsL4IrBZ",
        "colab_type": "text"
      },
      "cell_type": "markdown",
      "source": [
        "### *Driver Function*"
      ]
    },
    {
      "metadata": {
        "id": "nO2fPnw1Ij7p",
        "colab_type": "code",
        "colab": {}
      },
      "cell_type": "code",
      "source": [
        "if __name__ == '__main__':\n",
        "    #pass in the username of the account you want to download\n",
        "    get_all_tweets(\"midasIIITD\")\n"
      ],
      "execution_count": 0,
      "outputs": []
    },
    {
      "metadata": {
        "id": "MZIsifogODO8",
        "colab_type": "text"
      },
      "cell_type": "markdown",
      "source": [
        "The task is achieved as said. Only counting the number of images isn't accurate as the entities considers photos, videos and gif all as similar media and counts all as just single media as also mentioned in the developer documentation of twitter."
      ]
    }
  ]
}
